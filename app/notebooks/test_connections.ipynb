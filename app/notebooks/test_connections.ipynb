{
 "cells": [
  {
   "cell_type": "code",
   "execution_count": 1,
   "id": "3efae332-0226-40f8-8a29-5395e86ea20c",
   "metadata": {},
   "outputs": [
    {
     "name": "stdout",
     "output_type": "stream",
     "text": [
      "ZenML version: 0.70.0\n"
     ]
    }
   ],
   "source": [
    "from zenml import __version__\n",
    "print(f\"ZenML version: {__version__}\")\n"
   ]
  },
  {
   "cell_type": "code",
   "execution_count": 4,
   "id": "6ee770b0-2bcc-417e-8931-85a6b6abe749",
   "metadata": {},
   "outputs": [
    {
     "name": "stdout",
     "output_type": "stream",
     "text": [
      "{'_id': ObjectId('674e26a2763cbc2645753195'), 'message': 'Hello, MongoDB!'}\n"
     ]
    }
   ],
   "source": [
    "from pymongo import MongoClient\n",
    "\n",
    "client = MongoClient('mongodb://rag_mongodb:27017/')\n",
    "db = client['rag_db']\n",
    "collection = db['test_collection']\n",
    "\n",
    "# Insert a test document\n",
    "test_doc = {'message': 'Hello, MongoDB!'}\n",
    "collection.insert_one(test_doc)\n",
    "\n",
    "# Retrieve the document\n",
    "retrieved_doc = collection.find_one({'message': 'Hello, MongoDB!'})\n",
    "\n",
    "print(retrieved_doc)"
   ]
  },
  {
   "cell_type": "code",
   "execution_count": 5,
   "id": "300a9ed6-f7e1-4535-83bf-4ba2af9f2241",
   "metadata": {},
   "outputs": [
    {
     "name": "stdout",
     "output_type": "stream",
     "text": [
      "\u001b[1;35mHTTP Request: DELETE \u001b[0m\u001b[34mhttp://rag_qdrant:6333/collections/test_collection\u001b[1;35m \"HTTP/1.1 200 OK\"\u001b[0m\n"
     ]
    },
    {
     "name": "stderr",
     "output_type": "stream",
     "text": [
      "/tmp/ipykernel_39/1614699000.py:6: DeprecationWarning: `recreate_collection` method is deprecated and will be removed in the future. Use `collection_exists` to check collection existence and `create_collection` instead.\n",
      "  client.recreate_collection(\n"
     ]
    },
    {
     "name": "stdout",
     "output_type": "stream",
     "text": [
      "\u001b[1;35mHTTP Request: PUT \u001b[0m\u001b[34mhttp://rag_qdrant:6333/collections/test_collection\u001b[1;35m \"HTTP/1.1 200 OK\"\u001b[0m\n",
      "\u001b[1;35mHTTP Request: PUT \u001b[0m\u001b[34mhttp://rag_qdrant:6333/collections/test_collection/points?wait=true\u001b[1;35m \"HTTP/1.1 200 OK\"\u001b[0m\n",
      "\u001b[1;35mHTTP Request: POST \u001b[0m\u001b[34mhttp://rag_qdrant:6333/collections/test_collection/points/search\u001b[1;35m \"HTTP/1.1 200 OK\"\u001b[0m\n",
      "[ScoredPoint(id=1, version=0, score=0.9999998, payload={'message': 'Hello, Qdrant!'}, vector=None, shard_key=None, order_value=None)]\n"
     ]
    }
   ],
   "source": [
    "from qdrant_client import QdrantClient\n",
    "\n",
    "client = QdrantClient(host='rag_qdrant', port=6333)\n",
    "\n",
    "# Create a collection\n",
    "client.recreate_collection(\n",
    "    collection_name='test_collection',\n",
    "    vectors_config={'size': 3, 'distance': 'Cosine'}\n",
    ")\n",
    "\n",
    "if client.collection_exists(\"test_collection\"):\n",
    "    client.delete_collection(\"documents\")\n",
    "\n",
    "client.create_collection(\n",
    "    collection_name=\"documents\",\n",
    "    vectors_config=models.VectorParams(size=1536, distance=models.Distance.COSINE),\n",
    ")\n",
    "\n",
    "# Upload a vector\n",
    "vector = [0.1, 0.2, 0.3]\n",
    "payload = {'message': 'Hello, Qdrant!'}\n",
    "\n",
    "client.upsert(\n",
    "    collection_name='test_collection',\n",
    "    points=[\n",
    "        {\n",
    "            'id': 1,\n",
    "            'vector': vector,\n",
    "            'payload': payload,\n",
    "        }\n",
    "    ]\n",
    ")\n",
    "\n",
    "# Search for the vector\n",
    "results = client.search(\n",
    "    collection_name='test_collection',\n",
    "    query_vector=vector,\n",
    "    limit=1\n",
    ")\n",
    "\n",
    "print(results)\n"
   ]
  }
 ],
 "metadata": {
  "kernelspec": {
   "display_name": "Python 3 (ipykernel)",
   "language": "python",
   "name": "python3"
  },
  "language_info": {
   "codemirror_mode": {
    "name": "ipython",
    "version": 3
   },
   "file_extension": ".py",
   "mimetype": "text/x-python",
   "name": "python",
   "nbconvert_exporter": "python",
   "pygments_lexer": "ipython3",
   "version": "3.9.20"
  }
 },
 "nbformat": 4,
 "nbformat_minor": 5
}
